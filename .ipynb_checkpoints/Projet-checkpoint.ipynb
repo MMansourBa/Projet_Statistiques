{
 "cells": [
  {
   "cell_type": "markdown",
   "metadata": {},
   "source": [
    "# **PROJET STATISTIQUES**"
   ]
  },
  {
   "cell_type": "markdown",
   "metadata": {},
   "source": [
    "**PLAN**\n",
    "\n",
    "***Introduction***\n",
    "\n",
    "***Exercice 1 : Simulation de Lois***\n",
    "\n",
    "-   1.1 Simulation de la loi binomiale B(30, 0.5)\n",
    "    -   Génération d'un échantillon de taille 10 000\n",
    "    -   Tracé de l’histogramme de l’échantillon\n",
    "    -   Interprétation de l'histogramme\n",
    "-   1.2 Simulation de la loi normale N(3, 0.9)\n",
    "    -   Génération d'un échantillon de taille 10 000\n",
    "    -   Tracé de la fonction de densité de l’échantillon\n",
    "    -   Interprétation de l'histogramme\n",
    "-   1.3 Simulation de la loi du X² avec 20 degrés de liberté\n",
    "    -   Génération d'un échantillon de taille 10 000\n",
    "    -   Tracé de la fonction de densité de l’échantillon\n",
    "    -   Interprétation de l'histogramme\n",
    "\n",
    "***Exercice 2 : Méthode de Monte Carlo***\n",
    "\n",
    "-   2.1 Estimation de l’intégrale I2\n",
    "    -   Utilisation de la méthode de Monte Carlo avec n= 10000\n",
    "-   2.2 Graphique d’évolution de l’estimation\n",
    "    -   Tracé de la convergence de l’estimation en fonction de n\n",
    "    -   Vérification de la cohérence avec la valeur théorique I2 = Pi/4\n",
    "    -   Interprétation du graphe\n",
    "\n",
    "***Exercice 3 : Régression Linéaire***\n",
    "\n",
    "-   3.1 Préparation des données\n",
    "    -   Enregistrement des couples d’observations (xi,yi) dans un format\n",
    "        adapté pour Python\n",
    "-   3.2 Analyse de la relation entre yi et xi\n",
    "    -   Tracé des points (xi,yi)\n",
    "    -   Observation d’une possible liaison linéaire\n",
    "-   3.3 Calcul de la droite des moindres carrés\n",
    "    -   Estimation des coefficients de la droite de régression\n",
    "-   3.4 Calcul des valeurs estimées de yi\n",
    "    -   Calcul des ordonnées des yi estimés pour chaque xi\n",
    "-   3.5 Tracé de la droite de régression\n",
    "    -   Ajout de la droite sur le graphique de dispersion\n",
    "-   3.6 Estimation de𝑌pour xi=21\n",
    "    -   Calcul de la valeur estimée de𝑌\n",
    "-   3.7 Calcul de l’écart\n",
    "    -   Calcul de l’écart entre la valeur observée et la valeur estimée\n",
    "        pour xi=21\n",
    "-   3.8 Vérification du passage par le point moyen t (x¯, y¯)\n",
    "    -Discussion sur la généralisation du passage par le point moyen pour\n",
    "    toute droite de régression\n",
    "\n",
    "***Exercice 4 : Données COVID-19 au Sénégal***\n",
    "\n",
    "-   4.1 Lecture et nettoyage des données\n",
    "\n",
    "    -   Lecture du fichier regions_cas.csv\n",
    "    -   Nettoyage des noms de régions et conversion de la variable date\n",
    "        en type datetime\n",
    "\n",
    "-   4.2 Création du DataFrame avec date, region, maladesparegion\n",
    "\n",
    "    -   Fonction pour regrouper les cas par région et par date\n",
    "\n",
    "-   4.3 Estimation du paramètre λ pour la loi de Poisson\n",
    "\n",
    "-   Calcul du paramètre de la distribution de Poisson\n",
    "\n",
    "-   4.4 Test de la loi de Poisson\n",
    "\n",
    "    -   Test statistique pour vérifier si maladesparegion suit une loi\n",
    "        de Poisson\n",
    "\n",
    "-   4.5 Estimation des paramètres r et p pour la loi binomiale négative\n",
    "\n",
    "    -   Calcul des paramètres de la distribution binomiale négative\n",
    "\n",
    "-   4.6 Visualisation des données par carte\n",
    "\n",
    "    -   Fonction CarteRegions(madate) pour afficher une carte\n",
    "        choroplèthe des régions du Sénégal avec les cas de COVID-19\n",
    "\n",
    "***Conclusion***"
   ]
  },
  {
   "cell_type": "markdown",
   "metadata": {},
   "source": [
    "***INTRODUCTION :***\n",
    "\n",
    "*Ce document présente les solutions aux exercices de statistiques mathématiques pour le Master 1 en Sciences des données à l’Université Iba Der THIAM de Thiès. Ce projet comprend des simulations de lois de probabilité, une estimation par la méthode de Monte Carlo, une analyse de régression linéaire, et une étude de données COVID-19 au Sénégal.*"
   ]
  },
  {
   "cell_type": "markdown",
   "metadata": {},
   "source": [
    "***Exercice 1 : Simulation de lois***\n",
    "\n",
    "# *1.1 Simulation de la loi binomiale B(30, 0.5)*\n",
    "\n",
    "*Dans cette première étape, nous simulons un échantillon de taille 10000 suivant une loi binomiale avec 30 essais et une probabilité de succès de 0,5.*\n",
    "\n",
    "*- Génération de l'échantillon*\n",
    "\n",
    "*L'objectif est de simuler un échantillon de taille 10 000 provenant d'une distribution binomiale. La loi binomiale B(n,p) décrit le nombre de succès dans n essais indépendants, chacun ayant une probabilité de succès p Dans cet exercice, nous utilisons n=30 (le nombre d'essais) et p=0.5 (la probabilité de succès dans chaque essai).La fonction ***rbinom*** de R permet de générer cet échantillon.*\n"
   ]
  },
  {
   "cell_type": "code",
   "execution_count": null,
   "metadata": {
    "vscode": {
     "languageId": "r"
    }
   },
   "outputs": [],
   "source": [
    "# Simulation d'un échantillon de taille 10000 suivant une loi binomiale B(30, 0.5)\n",
    "sample_binomial <- rbinom(10000, size = 30, prob = 0.5)"
   ]
  },
  {
   "cell_type": "markdown",
   "metadata": {},
   "source": [
    "*- Tracé de l’histogramme de l’échantillon*\n",
    "\n",
    "*Une fois l'échantillon généré, nous traçons un histogramme pour visualiser la distribution des données. L'histogramme est un graphique qui montre la répartition des valeurs observées dans l'échantillon.Chaque barre de l'histogramme représente le nombre d'observations qui tombent dans un intervalle donné.*"
   ]
  },
  {
   "cell_type": "code",
   "execution_count": null,
   "metadata": {
    "vscode": {
     "languageId": "r"
    }
   },
   "outputs": [],
   "source": [
    "# Tracé de l'histogramme de l'échantillon\n",
    "hist(sample_binomial, main = \"Histogramme de l'échantillon Binomial B(30, 0.5)\", \n",
    "     xlab = \"Valeurs\", ylab = \"Fréquence\", col = \"skyblue\", border = \"white\")"
   ]
  },
  {
   "cell_type": "markdown",
   "metadata": {},
   "source": []
  }
 ],
 "metadata": {
  "language_info": {
   "name": "python"
  }
 },
 "nbformat": 4,
 "nbformat_minor": 2
}
