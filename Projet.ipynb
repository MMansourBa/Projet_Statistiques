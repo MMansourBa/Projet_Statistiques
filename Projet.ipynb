{
 "cells": [
  {
   "cell_type": "markdown",
   "metadata": {},
   "source": [
    "# **PROJET STATISTIQUES**"
   ]
  },
  {
   "cell_type": "markdown",
   "metadata": {},
   "source": [
    "**PLAN**\n",
    "\n",
    "***Introduction***\n",
    "\n",
    "***Exercice 1 : Simulation de Lois***\n",
    "\n",
    "-   1.1 Simulation de la loi binomiale B(30, 0.5)\n",
    "    -   Génération d'un échantillon de taille 10 000\n",
    "    -   Tracé de l’histogramme de l’échantillon\n",
    "    -   Interprétation de l'histogramme\n",
    "-   1.2 Simulation de la loi normale N(3, 0.9)\n",
    "    -   Génération d'un échantillon de taille 10 000\n",
    "    -   Tracé de la fonction de densité de l’échantillon\n",
    "    -   Interprétation de l'histogramme\n",
    "-   1.3 Simulation de la loi du X² avec 20 degrés de liberté\n",
    "    -   Génération d'un échantillon de taille 10 000\n",
    "    -   Tracé de la fonction de densité de l’échantillon\n",
    "    -   Interprétation de l'histogramme\n",
    "\n",
    "***Exercice 2 : Méthode de Monte Carlo***\n",
    "\n",
    "-   2.1 Estimation de l’intégrale I2\n",
    "    -   Utilisation de la méthode de Monte Carlo avec n= 10000\n",
    "-   2.2 Graphique d’évolution de l’estimation\n",
    "    -   Tracé de la convergence de l’estimation en fonction de n\n",
    "    -   Vérification de la cohérence avec la valeur théorique I2 = Pi/4\n",
    "    -   Interprétation du graphe\n",
    "\n",
    "***Exercice 3 : Régression Linéaire***\n",
    "\n",
    "-   3.1 Préparation des données\n",
    "    -   Enregistrement des couples d’observations (xi,yi) dans un format\n",
    "        adapté pour Python\n",
    "-   3.2 Analyse de la relation entre yi et xi\n",
    "    -   Tracé des points (xi,yi)\n",
    "    -   Observation d’une possible liaison linéaire\n",
    "-   3.3 Calcul de la droite des moindres carrés\n",
    "    -   Estimation des coefficients de la droite de régression\n",
    "-   3.4 Calcul des valeurs estimées de yi\n",
    "    -   Calcul des ordonnées des yi estimés pour chaque xi\n",
    "-   3.5 Tracé de la droite de régression\n",
    "    -   Ajout de la droite sur le graphique de dispersion\n",
    "-   3.6 Estimation de𝑌pour xi=21\n",
    "    -   Calcul de la valeur estimée de𝑌\n",
    "-   3.7 Calcul de l’écart\n",
    "    -   Calcul de l’écart entre la valeur observée et la valeur estimée\n",
    "        pour xi=21\n",
    "-   3.8 Vérification du passage par le point moyen t (x¯, y¯)\n",
    "    -   Discussion sur la généralisation du passage par le point moyen pour\n",
    "    toute droite de régression\n",
    "\n",
    "***Exercice 4 : Données COVID-19 au Sénégal***\n",
    "\n",
    "-   4.1 Lecture et nettoyage des données\n",
    "    -   Lecture du fichier regions_cas.csv\n",
    "    -   Nettoyage des noms de régions et conversion de la variable date\n",
    "        en type datetime\n",
    "\n",
    "-   4.2 Création du DataFrame avec date, region, maladesparegion\n",
    "\n",
    "    -   Fonction pour regrouper les cas par région et par date\n",
    "\n",
    "-   4.3 Estimation du paramètre λ pour la loi de Poisson\n",
    "\n",
    "-   Calcul du paramètre de la distribution de Poisson\n",
    "\n",
    "-   4.4 Test de la loi de Poisson\n",
    "\n",
    "    -   Test statistique pour vérifier si maladesparegion suit une loi\n",
    "        de Poisson\n",
    "\n",
    "-   4.5 Estimation des paramètres r et p pour la loi binomiale négative\n",
    "\n",
    "    -   Calcul des paramètres de la distribution binomiale négative\n",
    "\n",
    "-   4.6 Visualisation des données par carte\n",
    "\n",
    "    -   Fonction CarteRegions(madate) pour afficher une carte\n",
    "        choroplèthe des régions du Sénégal avec les cas de COVID-19\n",
    "\n",
    "***Conclusion***"
   ]
  },
  {
   "cell_type": "markdown",
   "metadata": {},
   "source": [
    "***INTRODUCTION :***\n",
    "\n",
    "*Ce document présente les solutions aux exercices de statistiques mathématiques pour le Master 1 en Sciences des données à l’Université Iba Der THIAM de Thiès. Ce projet comprend des simulations de lois de probabilité, une estimation par la méthode de Monte Carlo, une analyse de régression linéaire, et une étude de données COVID-19 au Sénégal.*"
   ]
  },
  {
   "cell_type": "markdown",
   "metadata": {},
   "source": [
    "# ***Exercice 1 : Simulation de lois***\n",
    "\n",
    "# *1.1 Simulation de la loi binomiale B(30, 0.5)*\n",
    "\n",
    "*Dans cette première étape, nous simulons un échantillon de taille 10000 suivant une loi binomiale avec 30 essais et une probabilité de succès de 0,5.*\n",
    "\n",
    "*- Génération de l'échantillon*\n",
    "\n",
    "*L'objectif est de simuler un échantillon de taille 10 000 provenant d'une distribution binomiale. La loi binomiale B(n,p) décrit le nombre de succès dans n essais indépendants, chacun ayant une probabilité de succès p Dans cet exercice, nous utilisons n=30 (le nombre d'essais) et p=0.5 (la probabilité de succès dans chaque essai).La fonction `rbinom` de R permet de générer cet échantillon.*\n"
   ]
  },
  {
   "cell_type": "code",
   "execution_count": null,
   "metadata": {
    "notebookRunGroups": {
     "groupValue": "2"
    },
    "vscode": {
     "languageId": "r"
    }
   },
   "outputs": [],
   "source": [
    "# Simulation d'un échantillon de taille 10000 suivant une loi binomiale B(30, 0.5)\n",
    "sample_binomial <- rbinom(10000, size = 30, prob = 0.5)"
   ]
  },
  {
   "cell_type": "markdown",
   "metadata": {},
   "source": [
    "*- Tracé de l’histogramme de l’échantillon*\n",
    "\n",
    "*Une fois l'échantillon généré, nous traçons un histogramme pour visualiser la distribution des données. L'histogramme est un graphique qui montre la répartition des valeurs observées dans l'échantillon.Chaque barre de l'histogramme représente le nombre d'observations qui tombent dans un intervalle donné.*"
   ]
  },
  {
   "cell_type": "code",
   "execution_count": null,
   "metadata": {
    "vscode": {
     "languageId": "r"
    }
   },
   "outputs": [],
   "source": [
    "# Tracé de l'histogramme de l'échantillon\n",
    "hist(sample_binomial, main = \"Histogramme de l'échantillon Binomial B(30, 0.5)\", \n",
    "     xlab = \"Valeurs\", ylab = \"Fréquence\", col = \"skyblue\", border = \"white\")"
   ]
  },
  {
   "cell_type": "markdown",
   "metadata": {},
   "source": [
    "*Dans cet histogramme, l'axe des abscisses représente les différentes valeurs possibles du nombre de succès dans les 30 essais (allant de 0 à 30), tandis que l'axe des ordonnées représente la fréquence (ou le nombre d'occurrences) de chaque valeur dans l'échantillon.*\n",
    "\n",
    "*- Interprétation de l'histogramme*\n",
    "\n",
    "*L'histogramme de la loi binomiale devrait présenter une forme en cloche, symétrique autour de la moyenne (15 dans ce cas), représentant le nombre attendu de succès. Étant donné 30 essais et une probabilité de succès de 0.5, la majorité des échantillons devraient se concentrer autour de cette valeur de 15. Les valeurs extrêmes, proches de 0 ou de 30, seront moins fréquentes, ce qui est caractéristique d'une distribution binomiale.*\n",
    "\n",
    "# *1.2 Simulation de la loi normale N(3, 0.9)*\n",
    "\n",
    "*Nous simulons un échantillon de taille 10 000 suivant une loi normale avec une moyenne de 3 et un écart-type de 0,9, puis traçons la fonction de densité de l'échantillon.*\n",
    "\n",
    "*- Génération de l'échantillon*\n",
    "\n",
    "*Nous générons un échantillon de taille 10 000 suivant la loi normale N(3, 0.9). La fonction `rnorm` de R permet de générer cet échantillon.*\n"
   ]
  },
  {
   "cell_type": "code",
   "execution_count": null,
   "metadata": {
    "vscode": {
     "languageId": "r"
    }
   },
   "outputs": [],
   "source": [
    "# Simulation d'un échantillon de taille 10000 suivant une loi normale N(3, 0.9)\n",
    "sample_normal <- rnorm(10000, mean = 3, sd = 0.9)"
   ]
  },
  {
   "cell_type": "markdown",
   "metadata": {},
   "source": [
    "*- Tracé de la fonction de densité de l’échantillon*\n",
    "\n",
    "*Une fois l'échantillon généré, nous traçons la fonction de densité qui nous permettra de visualiser la répartition des valeurs dans\n",
    "l'échantillon, nous ajoutons également une ligne pour indiquer l'intervalle contenant 0.*"
   ]
  },
  {
   "cell_type": "code",
   "execution_count": null,
   "metadata": {
    "vscode": {
     "languageId": "r"
    }
   },
   "outputs": [],
   "source": [
    "# Tracé de la densité de l'échantillon\n",
    "plot(density(sample_normal), main = \"Densité de l'échantillon Normal N(3, 0.9)\", \n",
    "     xlab = \"Valeurs\", ylab = \"Densité\", col = \"purple\")\n",
    "abline(v = 0, col = \"red\", lty = 2) # Ajout d'une ligne pour l'intervalle contenant 0"
   ]
  },
  {
   "cell_type": "markdown",
   "metadata": {},
   "source": [
    "*- Interprétation de l'histogramme*\n",
    "\n",
    "*Le graphique de densité montre la distribution de l'échantillon simulé. La ligne rouge représente un intervalle contenant 0. Comme la\n",
    "loi normale est symétrique, on s'attend à ce que la majorité des valeurs se situent autour de la moyenne 3, avec une dispersion définie par l'écart-type de 0.9.**\n",
    "\n",
    "# *1.3 Simulation de la loi du X² avec 20 degrés de liberté*\n",
    "\n",
    "*Tracer la fonction de densité de l’échantillon obtenu. Choisir un intervalle contenant 0 pour domaine de représentation.*\n",
    "\n",
    "*Enfin, nous simulons un chantillon de taille 10 000 suivant une loi du chi-carré avec 20 degrés de liberté et traçons la fonction de densité de l'échantillon.*\n",
    "\n",
    "*- Génération de l'échantillon*\n",
    "\n",
    "*Nous générons un échantillon de taille 10 000 suivant la loi du chi-carré avec 20 degrés de liberté. La fonction rchisq permet de\n",
    "générer cet échantillon.*"
   ]
  },
  {
   "cell_type": "code",
   "execution_count": null,
   "metadata": {
    "vscode": {
     "languageId": "r"
    }
   },
   "outputs": [],
   "source": [
    "# Simulation d'un échantillon de taille 10000 suivant une loi du χ² avec 20 degrés de liberté\n",
    "sample_chi2 <- rchisq(10000, df = 20)"
   ]
  },
  {
   "cell_type": "markdown",
   "metadata": {},
   "source": [
    "*- Tracé de la fonction de densité de l’échantillon*\n",
    "\n",
    "*Nous traçons ensuite la fonction de densité de l'échantillon pour observer la répartition des valeurs. Comme la loi du chi-carré est\n",
    "asymétrique et prend uniquement des valeurs positives, l'intervalle contenant 0 sera visible sur le graphique.*"
   ]
  },
  {
   "cell_type": "code",
   "execution_count": null,
   "metadata": {
    "vscode": {
     "languageId": "r"
    }
   },
   "outputs": [],
   "source": [
    "# Trac\\'{e}de la densité de l'\\'{e}chantillon\n",
    "plot(density(sample_chi2), main = \" Densité de l'échantillon $\\\\chi^2$ à 20 degrés de liberté \", \n",
    "     xlab = \"Valeurs\", ylab = \"Densité\", col = \"darkgreen\")\n",
    "abline(v = 0, col = \"red\", lty = 2) # Ligne pour l'intervalle contenant 0"
   ]
  },
  {
   "cell_type": "markdown",
   "metadata": {},
   "source": [
    "*- Interprétation de l'histogramme*\n",
    "\n",
    "*Le graphique montre que la distribution du chi-carré est fortement asymétrique, avec une forte concentration de valeurs près de 0 et une longue traîne du côté des valeurs plus élevées. La ligne rouge indique l'intervalle contenant 0, ce qui est pertinent car la loi du chi-carré n'a pas de valeurs négatives.*"
   ]
  },
  {
   "cell_type": "markdown",
   "metadata": {},
   "source": [
    "# ***Exercice 2 : Méthode de Monte Carlo***"
   ]
  },
  {
   "cell_type": "markdown",
   "metadata": {},
   "source": [
    "# *2.1 Estimation de l’intégrale I2*\n",
    "\n",
    "*- Utilisation de la méthode de Monte Carlo avec n= 10000*\n",
    "\n",
    "*Nous estimons l’intégrale I2 à l’aide de la méthode de `Monte Carlo`. Cette méthode consiste à générer aléatoirement des points dans\n",
    "l’intervalle [0,1] et à calculer la moyenne des valeurs de la fonction f(x) évaluée en ces points. Avec n = 10 000simulations, l’estimation obtenue sera comparée à la valeur théorique Pi/4.*"
   ]
  },
  {
   "cell_type": "code",
   "execution_count": null,
   "metadata": {
    "vscode": {
     "languageId": "r"
    }
   },
   "outputs": [],
   "source": [
    "# Nombre de simulations\n",
    "n <- 10000\n",
    "\n",
    "# Simulation de points uniformément distribués sur [0, 1]\n",
    "x <- runif(n)\n",
    "\n",
    "# Fonction à intégrer : sqrt(1 - x^2)\n",
    "f_x <- sqrt(1 - x^2)\n",
    "\n",
    "# Estimation de l'intégrale par la méthode de Monte Carlo\n",
    "I2_estimation <- mean(f_x)\n",
    "\n",
    "# Affichage de l'estimation\n",
    "cat(\"Estimation de I2 par la méthode de Monte Carlo avec n =\", n, \":\", I2_estimation, \"\\n\")\n",
    "\n",
    "# Valeur théorique de I2\n",
    "I2_theorique <- pi / 4\n",
    "cat(\"Valeur théorique de I2 :\", I2_theorique, \"\\n\")"
   ]
  },
  {
   "cell_type": "markdown",
   "metadata": {},
   "source": [
    "# *2.2 Graphique d’évolution de l’estimation*\n",
    "\n",
    "*- Tracé de la convergence de l’estimation en fonction de*\n",
    "\n",
    "*- Vérification de la cohérence avec la valeur théorique I2 = Pi/4*\n",
    "\n",
    "*Pour cette partie, nous visualisons comment l'estimation de I2, obtenue par `la méthode de Monte Carlo`, évolue à mesure que le nombre de simulations augmente. L'objectif est de vérifier la convergence de cette estimation vers la valeur théorique I2 = Pi/4.*\n",
    "\n",
    "*Le graphique montre la progression de l'estimation cumulée après chaque simulation. Une ligne horizontale représentant la valeur\n",
    "théorique Pi/4 est ajoutée comme référence visuelle pour comparer les estimations successives. Cette approche permet de vérifier la cohérence de la méthode utilisée et d'observer comment la précision s'améliore\n",
    "avec un plus grand nombre de simulations.*"
   ]
  },
  {
   "cell_type": "code",
   "execution_count": null,
   "metadata": {
    "vscode": {
     "languageId": "r"
    }
   },
   "outputs": [],
   "source": [
    "# Visualisation de l'évolution de l'estimation avec n croissant\n",
    "estimation_progression <- cumsum(f_x) / (1:n)\n",
    "plot(1:n, estimation_progression, type = \"l\", col = \"blue\", \n",
    "     xlab = \"Nombre de simulations\", ylab = \"Estimation de I2\", \n",
    "     main = \"Évolution de l'estimation de I2 avec Monte Carlo\")\n",
    "abline(h = I2_theorique, col = \"red\", lty = 2) # Valeur théorique en rouge\n",
    "\n",
    "# Ajout d'une légende\n",
    "legend(\"bottomright\", legend = c(\"Estimation cumulée\", \"Valeur théorique I2 = π/4\"),\n",
    "       col = c(\"blue\", \"red\"), lty = c(1, 2), bty = \"n\")"
   ]
  },
  {
   "cell_type": "markdown",
   "metadata": {},
   "source": [
    "*- Interprétation du graphe* \n",
    "\n",
    "*Le graphique montre l'évolution de l'estimation de I2 en fonction du nombre de simulations n. La courbe bleue correspond à l'estimation cumulative de I2, tandis que la ligne rouge horizontale représente la valeur théorique I2 = Pi/4.*\n",
    "\n",
    "*On observe que l’estimation devient de plus en plus stable à mesure que n augmente, convergeant vers la valeur théorique. Cette stabilité indique la validité de la méthode de Monte Carlo pour estimer des intégrales. Pour n = 10 000, les écarts entre les estimations successives et la valeur théorique deviennent négligeables, démontrant que la précision s’améliore avec un plus grand nombre de simulations.*"
   ]
  },
  {
   "cell_type": "markdown",
   "metadata": {},
   "source": [
    "# ***Exercice 3 : Régression Linéaire***"
   ]
  },
  {
   "cell_type": "markdown",
   "metadata": {},
   "source": [
    "# *3.1 Préparation des données* \n",
    "*Enregistrement des couples d’observations (xi,yi) dans un format adapté\n",
    "pour Python*"
   ]
  },
  {
   "cell_type": "markdown",
   "metadata": {},
   "source": [
    "***- Importons d'abord les bibliothèques nécessaires :***"
   ]
  },
  {
   "cell_type": "code",
   "execution_count": null,
   "metadata": {},
   "outputs": [],
   "source": [
    "import numpy as np\n",
    "import matplotlib.pyplot as plt\n",
    "from sklearn.linear_model import LinearRegression\n",
    "from sklearn.metrics import mean_squared_error"
   ]
  },
  {
   "cell_type": "markdown",
   "metadata": {},
   "source": [
    "***- Enregistrer les données :***"
   ]
  },
  {
   "cell_type": "code",
   "execution_count": null,
   "metadata": {
    "vscode": {
     "languageId": "r"
    }
   },
   "outputs": [],
   "source": [
    "# Créer un data.frame pour regrouper les données\n",
    "donnees <- data.frame(x = c(18, 7, 14, 31, 21, 5, 11, 16, 26, 29),\n",
    "                      y = c(55, 17, 36, 85, 62, 18, 33, 41, 63, 87))\n",
    "\n",
    "# Exporter les données au format CSV\n",
    "write.csv(donnees, \"donnees.csv\", row.names = FALSE)\n",
    "\n",
    "cat(\"Les données ont été enregistrées dans le fichier 'donnees.csv'.\\n\")"
   ]
  },
  {
   "cell_type": "markdown",
   "metadata": {},
   "source": [
    "***- Affichage du fichier donnees.csv***"
   ]
  },
  {
   "cell_type": "code",
   "execution_count": null,
   "metadata": {},
   "outputs": [],
   "source": [
    "import pandas as pd\n",
    "donnees = pd.read_csv(\"donnees.csv\")\n",
    "print(donnees)"
   ]
  },
  {
   "cell_type": "markdown",
   "metadata": {},
   "source": [
    "*Les vecteurs x et y contiennent les couples d'observations. Cela correspond à la préparation des données pour l'analyse de régression linéaire.*"
   ]
  },
  {
   "cell_type": "markdown",
   "metadata": {},
   "source": [
    "# *3.2 Analyse de la relation entre yi et xi*\n",
    "   *- Tracé des points (xi,yi)*\n",
    "   \n",
    "   *- Observation d’une possible liaison linéaire*"
   ]
  },
  {
   "cell_type": "code",
   "execution_count": null,
   "metadata": {},
   "outputs": [],
   "source": [
    "# Données (x et y)\n",
    "x = [18, 7, 14, 31, 21, 5, 11, 16, 26, 29]\n",
    "y = [55, 17, 36, 85, 62, 18, 33, 41, 63, 87]\n",
    "\n",
    "# Tracer un graphique de dispersion\n",
    "plt.scatter(x, y, color='blue')\n",
    "\n",
    "# Ajouter un titre et des labels\n",
    "plt.title('Graphique de dispersion de y en fonction de x')\n",
    "plt.xlabel('x')\n",
    "plt.ylabel('y')\n",
    "\n",
    "# Afficher le graphique\n",
    "plt.show()\n"
   ]
  },
  {
   "cell_type": "markdown",
   "metadata": {},
   "source": [
    "*Ce graphique permet de visualiser les points et d’observer une éventuelle relation linéaire entre x et y.*"
   ]
  },
  {
   "cell_type": "markdown",
   "metadata": {},
   "source": [
    "# *3.3 Calcul de la droite des moindres carrés*\n",
    "   *- Estimation des coefficients de la droite de régression*"
   ]
  },
  {
   "cell_type": "code",
   "execution_count": null,
   "metadata": {},
   "outputs": [],
   "source": [
    "# Données (x et y)\n",
    "x = np.array([18, 7, 14, 31, 21, 5, 11, 16, 26, 29]).reshape(-1, 1)\n",
    "y = np.array([55, 17, 36, 85, 62, 18, 33, 41, 63, 87])\n",
    "\n",
    "# Ajustement d'une droite de régression linéaire\n",
    "model = LinearRegression()\n",
    "model.fit(x, y)\n",
    "\n",
    "# Estimation des coefficients (pente et intercept)\n",
    "slope = model.coef_[0]\n",
    "intercept = model.intercept_\n",
    "\n",
    "# Afficher les coefficients\n",
    "print(\"Coefficients de la droite des moindres carrés :\")\n",
    "print(f\"Pente (slope) : {slope}\")\n",
    "print(f\"Ordonnée à l'origine (intercept) : {intercept}\")"
   ]
  },
  {
   "cell_type": "markdown",
   "metadata": {},
   "source": [
    "*Le modèle ajuste la droite des moindres carrés. Les coefficients de régression sont correctement extraits et affichés.*"
   ]
  },
  {
   "cell_type": "markdown",
   "metadata": {},
   "source": [
    "# *3.4 Calcul des valeurs estimées de yi*\n",
    "   *- Calcul des ordonnées des yi estimés pour chaque xi*"
   ]
  },
  {
   "cell_type": "code",
   "execution_count": null,
   "metadata": {},
   "outputs": [],
   "source": [
    "# Calculer les valeurs estimées de y\n",
    "y_estime = model.predict(x)\n",
    "\n",
    "# Afficher les ordonnées estimées pour chaque x_i\n",
    "print(\"Ordonnées estimées pour chaque xi :\")\n",
    "print(y_estime)"
   ]
  },
  {
   "cell_type": "markdown",
   "metadata": {},
   "source": [
    "*Cette étape calcule les yi estimés pour chaque xi. Ces valeurs sont essentielles pour tracer la droite et évaluer la qualité du modèle.*"
   ]
  },
  {
   "cell_type": "markdown",
   "metadata": {},
   "source": [
    "# *3.5 Tracé de la droite de régression*\n",
    "   *- Ajout de la droite sur le graphique de dispersion*"
   ]
  },
  {
   "cell_type": "code",
   "execution_count": null,
   "metadata": {},
   "outputs": [],
   "source": [
    "import matplotlib.pyplot as plt\n",
    "import numpy as np\n",
    "from sklearn.linear_model import LinearRegression\n",
    "\n",
    "# Données (x et y)\n",
    "x = np.array([18, 7, 14, 31, 21, 5, 11, 16, 26, 29]).reshape(-1, 1)\n",
    "y = np.array([55, 17, 36, 85, 62, 18, 33, 41, 63, 87])\n",
    "\n",
    "# Ajuster un modèle de régression linéaire\n",
    "model = LinearRegression()\n",
    "model.fit(x, y)\n",
    "\n",
    "# Calculer les valeurs estimées de y (droite de régression)\n",
    "y_estime = model.predict(x)\n",
    "\n",
    "# Tracer le graphique de dispersion\n",
    "plt.scatter(x, y, color='blue', label='Données observées')\n",
    "\n",
    "# Ajouter la droite de régression\n",
    "plt.plot(x, y_estime, color='red', linewidth=2, label='Droite de régression')\n",
    "\n",
    "# Ajouter un titre et des labels\n",
    "plt.title('Graphique de dispersion avec droite de régression')\n",
    "plt.xlabel('Variable X')\n",
    "plt.ylabel('Variable Y')\n",
    "\n",
    "# Ajouter une légende\n",
    "plt.legend()\n",
    "\n",
    "# Afficher le graphique\n",
    "plt.show()\n"
   ]
  },
  {
   "cell_type": "markdown",
   "metadata": {},
   "source": [
    "*La droite de régression est correctement ajoutée au graphique de dispersion pour visualiser l’ajustement.*"
   ]
  },
  {
   "cell_type": "markdown",
   "metadata": {},
   "source": [
    "# *3.6 Estimation de 𝑌 pour xi=21*\n",
    "   *- Calcul de la valeur estimée de*"
   ]
  },
  {
   "cell_type": "code",
   "execution_count": null,
   "metadata": {},
   "outputs": [],
   "source": [
    "# Calculer la valeur estimée de y pour xi = 21\n",
    "x_new = 21\n",
    "y_estime_21 = slope * x_new + intercept\n",
    "print(f\"Estimation de Y pour xi = 21 : {y_estime_21}\")\n"
   ]
  },
  {
   "cell_type": "markdown",
   "metadata": {},
   "source": [
    "*Cette section calcule Y pour xi = 21 à partir du modèle ajusté. C’est une application classique de la prédiction avec un modèle linéaire.*"
   ]
  },
  {
   "cell_type": "markdown",
   "metadata": {},
   "source": [
    "# *3.7 Calcul de l’écart*\n",
    "   *- Calcul de l’écart entre la valeur observée et la valeur estimée pour xi = 21*"
   ]
  },
  {
   "cell_type": "code",
   "execution_count": null,
   "metadata": {},
   "outputs": [],
   "source": [
    "# Calculer l'écart entre la valeur observée et la valeur estimée pour x = 21\n",
    "y_observe_21 = donnees.loc[donnees['x'] == 21, 'y'].values[0]\n",
    "ecart = y_observe_21 - y_estime_21\n",
    "print(f\"Écart entre la valeur observée et estimée pour x = 21 : {ecart} (L'écart est appelé résidu)\")\n"
   ]
  },
  {
   "cell_type": "markdown",
   "metadata": {},
   "source": [
    "*`L’écart (ou résidu)` est correctement calculé comme la différence entre la valeur observée et la valeur prédite.*"
   ]
  },
  {
   "cell_type": "markdown",
   "metadata": {},
   "source": [
    "# *3.8 Vérification du passage par le point moyen t (x¯, y¯)*\n",
    "   *-Discussion sur la généralisation du passage par le point moyen pour toute droite de régression*"
   ]
  },
  {
   "cell_type": "code",
   "execution_count": null,
   "metadata": {},
   "outputs": [],
   "source": [
    "# Calculer les moyennes de x et y\n",
    "x_bar = donnees['x'].mean()\n",
    "y_bar = donnees['y'].mean()\n",
    "\n",
    "# Vérifier si la droite passe par (x̄, ȳ)\n",
    "y_estime_bar = slope * x_bar + intercept\n",
    "passe_par_moyen = np.isclose(y_estime_bar, y_bar)\n",
    "print(f\"Point moyen (x̄, ȳ) : ({x_bar}, {y_bar})\")\n",
    "print(f\"La droite passe-t-elle par (x̄, ȳ) ? : {passe_par_moyen}\")\n"
   ]
  },
  {
   "cell_type": "markdown",
   "metadata": {},
   "source": [
    "*Cette vérification est importante pour confirmer que la droite de régression passe bien par le barycentre (x¯, y¯), ce qui est une propriété fondamentale des moindres carrés.*"
   ]
  },
  {
   "cell_type": "markdown",
   "metadata": {},
   "source": [
    "# ***Exercice 4 : Données COVID-19 Sénégal***"
   ]
  },
  {
   "cell_type": "markdown",
   "metadata": {},
   "source": [
    "# *4.1 Lecture et nettoyage des données*\n",
    "   *-Lecture du fichier regions_cas.csv*"
   ]
  },
  {
   "cell_type": "code",
   "execution_count": null,
   "metadata": {},
   "outputs": [],
   "source": [
    "import pandas as pd\n",
    "import unidecode\n",
    "\n",
    "# Chargement du fichier CSV\n",
    "dataframe = pd.read_csv(\"regions_cas.csv\")\n",
    "\n",
    "# Affichage du fichier pour vérifier\n",
    "print(dataframe)\n"
   ]
  },
  {
   "cell_type": "markdown",
   "metadata": {},
   "source": [
    "*-Nettoyage des noms de régions et mettre la première lettre en majuscule*"
   ]
  },
  {
   "cell_type": "code",
   "execution_count": null,
   "metadata": {},
   "outputs": [],
   "source": [
    "# Nettoyage des noms des colonnes en enlevant les accents et les points, et mettre la première lettre en majuscule\n",
    "dataframe.columns = [unidecode.unidecode(col).replace('.', '').title() for col in dataframe.columns]\n",
    "\n",
    "\n",
    "\n",
    "# Affichage des noms des colonnes après nettoyage\n",
    "print(\"Les noms des colonnes après nettoyage :\")\n",
    "print(dataframe.columns)\n",
    "\n",
    "# Réorganisation des données pour avoir une colonne \"date\", une colonne \"region\" et une colonne \"malades\"\n",
    "données_transformées = pd.melt(dataframe, id_vars=[\"Date\"], var_name=\"Region\", value_name=\"Malades\")\n",
    "\n",
    "# Affichage des données après la transformation\n",
    "print(\"Les données transformées :\")\n",
    "print(données_transformées)\n",
    "\n",
    "\n",
    "\n",
    "# Afficher le DataFrame final en format csv\n",
    "print(\"Les données finales en format csv :\")\n",
    "données_transformées.to_csv(\"tab.csv\",index=False)\n",
    "tab=pd.read_csv(\"tab.csv\")\n",
    "\n",
    "# Afficher le DataFrame final en format json\n",
    "format_json = données_transformées.to_json(orient='records', lines=True)\n",
    "\n",
    "# Sauvegarder les données dans un fichier CSV\n",
    "données_transformées.to_csv('covid_data.csv', index=False)\n",
    "print(tab)\n"
   ]
  },
  {
   "cell_type": "markdown",
   "metadata": {},
   "source": [
    "# *4.2 Conversion de la variable date en type datetime et suppression de toutes les lignes ayant des valeurs manquantes (s’il en existe)*"
   ]
  },
  {
   "cell_type": "markdown",
   "metadata": {},
   "source": [
    "*- Conversion de la variable date en type datetime*"
   ]
  },
  {
   "cell_type": "code",
   "execution_count": null,
   "metadata": {},
   "outputs": [],
   "source": [
    "#Convertir la variable date en datetime\n",
    "#Utilisons la fonction pd.to_datetime pour convertir la date\n",
    "données_transformées['Date'] = pd.to_datetime(données_transformées['Date'], errors='coerce')  # Utilisation de 'coerce' pour gérer les erreurs\n",
    "print(données_transformées)"
   ]
  },
  {
   "cell_type": "markdown",
   "metadata": {},
   "source": [
    "*- Supprimer toutes les lignes ayant des valeurs manquantes (s’il en existe)*"
   ]
  },
  {
   "cell_type": "code",
   "execution_count": null,
   "metadata": {},
   "outputs": [],
   "source": [
    "#Utilisons la méthode `dropna` pour supprimer les lignes qui ont des valeurs manquantes\n",
    "données_transformées = données_transformées.dropna()\n",
    "print(données_transformées)"
   ]
  },
  {
   "cell_type": "markdown",
   "metadata": {},
   "source": [
    "# *4.3 Création d'une fonction qui retourne un dataframe à 3 colonnes (date, region, maladesparegion). La dernière colonne contiendra le nombre de malades de covid-19 par régions aux différentes dates données.*"
   ]
  },
  {
   "cell_type": "code",
   "execution_count": null,
   "metadata": {},
   "outputs": [],
   "source": [
    "import pandas as pd\n",
    "import unidecode\n",
    "#Créons une fonction qui retourne un dataframe à trois colonnes date,region et maladesparregion:\n",
    "\n",
    "def transformation(données_transformées):\n",
    "\n",
    "    # Utilisation de melt pour transformer les régions en ligne\n",
    "    données_transformées = pd.melt(dataframe, id_vars=[\"Date\"], var_name=\"Region\", value_name=\"maladesparregion\")\n",
    "    \n",
    "    return données_transformées\n",
    "\n",
    "\n",
    "données_nouvelles = transformation(données_transformées)  \n",
    "print(données_nouvelles)"
   ]
  },
  {
   "cell_type": "markdown",
   "metadata": {},
   "source": [
    "# *4.4  Estimer de λ*"
   ]
  },
  {
   "cell_type": "code",
   "execution_count": null,
   "metadata": {},
   "outputs": [],
   "source": [
    "#Calculons la moyenne de la colonne maladesparregion:\n",
    "moy = données_nouvelles['maladesparregion'].mean()\n",
    "print( \"λ =\",moy)"
   ]
  },
  {
   "cell_type": "markdown",
   "metadata": {},
   "source": [
    "# *4.5 Utilisation d'un test statistique pour vérifier si la variable maladesparegion suit une loi de Poisson*"
   ]
  },
  {
   "cell_type": "code",
   "execution_count": null,
   "metadata": {},
   "outputs": [],
   "source": [
    "import numpy as np\n",
    "import scipy.stats as stats\n",
    "\n",
    "# Estimation du paramètre λ à partir de la moyenne des données\n",
    "moy = données_nouvelles['maladesparregion'].mean()\n",
    "estimation = moy  # λ est estimé par la moyenne des malades\n",
    "\n",
    "# Définir le nombre de classes (bins) pour l'histogramme\n",
    "nbre_classe = np.arange(données_nouvelles['maladesparregion'].min(), données_nouvelles['maladesparregion'].max() + 1)\n",
    "\n",
    "# Calcul des fréquences observées dans les différentes classes\n",
    "observed_frequencies, bin_edges = np.histogram(données_nouvelles['maladesparregion'], bins=nbre_classe)\n",
    "\n",
    "# Calcul des fréquences théoriques attendues pour chaque bin sous l'hypothèse de Poisson\n",
    "expected_frequencies = []\n",
    "for i in range(len(nbre_classe) - 1):\n",
    "    expected_frequencies.append(stats.poisson.cdf(nbre_classe[i+1], estimation) - stats.poisson.cdf(nbre_classe[i], estimation))\n",
    "\n",
    "# Normalisation pour avoir la même taille que les fréquences observées\n",
    "expected_frequencies = np.array(expected_frequencies) * len(données_nouvelles)\n",
    "\n",
    "\n",
    "# Effectuer le test du chi carré\n",
    "chi2_stat, p_value = stats.chisquare(observed_frequencies, expected_frequencies)\n",
    "\n",
    "# Afficher les résultats\n",
    "print(f\"Statistique du test chi carré : {chi2_stat}\")\n",
    "print(f\"Valeur p du test : {p_value}\")\n",
    "\n",
    "# Interpréter le résultat\n",
    "if p_value < 0.05:\n",
    "    print(\"Nous rejetons l'hypothèse nulle : les données ne suivent pas une loi de Poisson.\")\n",
    "else:\n",
    "    print(\"Nous ne rejetons pas l'hypothèse nulle : les données suivent probablement une loi de Poisson.\")\n"
   ]
  },
  {
   "cell_type": "markdown",
   "metadata": {},
   "source": [
    "# *4.6 Estimation de r et de p*"
   ]
  },
  {
   "cell_type": "code",
   "execution_count": null,
   "metadata": {},
   "outputs": [],
   "source": [
    "import numpy as np\n",
    "\n",
    "# Calcul de la moyenne et de la variance des données\n",
    "moy = données_nouvelles['maladesparregion'].mean()\n",
    "var = données_nouvelles['maladesparregion'].var()\n",
    "\n",
    "# Estimation de p et r\n",
    "p = moy / var\n",
    "r = moy* p / (1 - p)\n",
    "\n",
    "print(f\"Estimation du paramètre p : {p}\")\n",
    "print(f\"Estimation du paramètre r : {r}\")"
   ]
  },
  {
   "cell_type": "markdown",
   "metadata": {},
   "source": [
    "# *4.6 Créstion de la fonction CarteRegions(madate) qui affiche la carte choroplèthe des régions en utilisant le nombre de malades*"
   ]
  },
  {
   "cell_type": "code",
   "execution_count": null,
   "metadata": {},
   "outputs": [],
   "source": [
    "pip install geopandas matplotlib pandas"
   ]
  }
 ],
 "metadata": {
  "kernelspec": {
   "display_name": "Python 3 (ipykernel)",
   "language": "python",
   "name": "python3"
  },
  "language_info": {
   "codemirror_mode": {
    "name": "ipython",
    "version": 3
   },
   "file_extension": ".py",
   "mimetype": "text/x-python",
   "name": "python",
   "nbconvert_exporter": "python",
   "pygments_lexer": "ipython3",
   "version": "3.12.7"
  }
 },
 "nbformat": 4,
 "nbformat_minor": 4
}
